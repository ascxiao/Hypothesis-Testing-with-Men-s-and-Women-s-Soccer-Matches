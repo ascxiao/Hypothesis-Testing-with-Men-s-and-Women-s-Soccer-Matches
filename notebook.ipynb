{
 "cells": [
  {
   "cell_type": "markdown",
   "id": "dd3859a8",
   "metadata": {},
   "source": [
    "<h1>Hypothesis Testing with Men's and Women's Soccer Matches</h1>"
   ]
  },
  {
   "cell_type": "markdown",
   "id": "3ed0edb2-696b-49ab-9db0-681defcce695",
   "metadata": {},
   "source": [
    "![A soccer pitch for an international match.](soccer-pitch.jpg)\n",
    "\n",
    "You're working as a sports journalist at a major online sports media company, specializing in soccer analysis and reporting. You've been watching both men's and women's international soccer matches for a number of years, and your gut instinct tells you that more goals are scored in women's international football matches than men's. This would make an interesting investigative article that your subscribers are bound to love, but you'll need to perform a valid statistical hypothesis test to be sure!\n",
    "\n",
    "While scoping this project, you acknowledge that the sport has changed a lot over the years, and performances likely vary a lot depending on the tournament, so you decide to limit the data used in the analysis to only official `FIFA World Cup` matches (not including qualifiers) since `2002-01-01`.\n",
    "\n",
    "You create two datasets containing the results of every official men's and women's international football match since the 19th century, which you scraped from a reliable online source. This data is stored in two CSV files: `women_results.csv` and `men_results.csv`.\n",
    "\n",
    "The question you are trying to determine the answer to is:\n",
    "\n",
    "> Are more goals scored in women's international soccer matches than men's?\n",
    "\n",
    "You assume a **10% significance level**, and use the following null and alternative hypotheses:\n",
    "\n",
    "$H_0$ : The mean number of goals scored in women's international soccer matches is the same as men's.\n",
    "\n",
    "$H_A$ : The mean number of goals scored in women's international soccer matches is greater than men's."
   ]
  },
  {
   "cell_type": "markdown",
   "id": "5b09be41",
   "metadata": {},
   "source": [
    "<h1>Project Instructions</h1>\n",
    "Perform an appropriate hypothesis test to determine the p-value, and hence result, of whether to reject or fail to reject the null hypothesis that the mean number of goals scored in women's international soccer matches is the same as men's. <b>Use a 10% significance level</b>.\n",
    "\n",
    "For this analysis, you'll use Official FIFA World Cup matches since 2002-01-01, and you'll also assume that each match is fully independent, i.e., team form is ignored.\n",
    "\n",
    "The p-value and the result of the test must be stored in a dictionary called result_dict in the form:\n",
    "\n",
    "result_dict = {\"p_val\": p_val, \"result\": result}\n",
    "\n",
    "where p_val is the p-value and result is either the string \"fail to reject\" or \"reject\", depending on the result of the test."
   ]
  },
  {
   "cell_type": "markdown",
   "id": "bb6c83fe",
   "metadata": {},
   "source": [
    "<h1>Solution Code</h1>"
   ]
  },
  {
   "cell_type": "markdown",
   "id": "95a9c1f5",
   "metadata": {},
   "source": [
    "<h3>Importing, and Filtering the Dataset</h3>"
   ]
  },
  {
   "cell_type": "code",
   "execution_count": 2,
   "id": "84a3c4c8-534b-4d1a-9919-17e05208b2ca",
   "metadata": {
    "executionCancelledAt": null,
    "executionTime": 174,
    "lastExecutedAt": 1738070418354,
    "lastExecutedByKernel": "c4676d52-d81f-40e3-8d12-e011a635e1ac",
    "lastScheduledRunId": null,
    "lastSuccessfullyExecutedCode": "# Start your code here!\nimport pandas as pd\n\nmen = pd.read_csv('men_results.csv')\n\ndisplay(men)"
   },
   "outputs": [
    {
     "data": {
      "text/html": [
       "<div>\n",
       "<style scoped>\n",
       "    .dataframe tbody tr th:only-of-type {\n",
       "        vertical-align: middle;\n",
       "    }\n",
       "\n",
       "    .dataframe tbody tr th {\n",
       "        vertical-align: top;\n",
       "    }\n",
       "\n",
       "    .dataframe thead th {\n",
       "        text-align: right;\n",
       "    }\n",
       "</style>\n",
       "<table border=\"1\" class=\"dataframe\">\n",
       "  <thead>\n",
       "    <tr style=\"text-align: right;\">\n",
       "      <th></th>\n",
       "      <th>Unnamed: 0</th>\n",
       "      <th>date</th>\n",
       "      <th>home_team</th>\n",
       "      <th>away_team</th>\n",
       "      <th>home_score</th>\n",
       "      <th>away_score</th>\n",
       "      <th>tournament</th>\n",
       "      <th>total_score</th>\n",
       "    </tr>\n",
       "  </thead>\n",
       "  <tbody>\n",
       "    <tr>\n",
       "      <th>1600</th>\n",
       "      <td>1600</td>\n",
       "      <td>2003-09-20</td>\n",
       "      <td>Nigeria</td>\n",
       "      <td>North Korea</td>\n",
       "      <td>0</td>\n",
       "      <td>3</td>\n",
       "      <td>FIFA World Cup</td>\n",
       "      <td>3</td>\n",
       "    </tr>\n",
       "    <tr>\n",
       "      <th>1601</th>\n",
       "      <td>1601</td>\n",
       "      <td>2003-09-20</td>\n",
       "      <td>Norway</td>\n",
       "      <td>France</td>\n",
       "      <td>2</td>\n",
       "      <td>0</td>\n",
       "      <td>FIFA World Cup</td>\n",
       "      <td>2</td>\n",
       "    </tr>\n",
       "    <tr>\n",
       "      <th>1602</th>\n",
       "      <td>1602</td>\n",
       "      <td>2003-09-20</td>\n",
       "      <td>Germany</td>\n",
       "      <td>Canada</td>\n",
       "      <td>4</td>\n",
       "      <td>1</td>\n",
       "      <td>FIFA World Cup</td>\n",
       "      <td>5</td>\n",
       "    </tr>\n",
       "    <tr>\n",
       "      <th>1603</th>\n",
       "      <td>1603</td>\n",
       "      <td>2003-09-20</td>\n",
       "      <td>Japan</td>\n",
       "      <td>Argentina</td>\n",
       "      <td>6</td>\n",
       "      <td>0</td>\n",
       "      <td>FIFA World Cup</td>\n",
       "      <td>6</td>\n",
       "    </tr>\n",
       "    <tr>\n",
       "      <th>1604</th>\n",
       "      <td>1604</td>\n",
       "      <td>2003-09-21</td>\n",
       "      <td>United States</td>\n",
       "      <td>Sweden</td>\n",
       "      <td>3</td>\n",
       "      <td>1</td>\n",
       "      <td>FIFA World Cup</td>\n",
       "      <td>4</td>\n",
       "    </tr>\n",
       "    <tr>\n",
       "      <th>...</th>\n",
       "      <td>...</td>\n",
       "      <td>...</td>\n",
       "      <td>...</td>\n",
       "      <td>...</td>\n",
       "      <td>...</td>\n",
       "      <td>...</td>\n",
       "      <td>...</td>\n",
       "      <td>...</td>\n",
       "    </tr>\n",
       "    <tr>\n",
       "      <th>4465</th>\n",
       "      <td>4465</td>\n",
       "      <td>2019-06-29</td>\n",
       "      <td>Germany</td>\n",
       "      <td>Sweden</td>\n",
       "      <td>1</td>\n",
       "      <td>2</td>\n",
       "      <td>FIFA World Cup</td>\n",
       "      <td>3</td>\n",
       "    </tr>\n",
       "    <tr>\n",
       "      <th>4466</th>\n",
       "      <td>4466</td>\n",
       "      <td>2019-07-02</td>\n",
       "      <td>England</td>\n",
       "      <td>United States</td>\n",
       "      <td>1</td>\n",
       "      <td>2</td>\n",
       "      <td>FIFA World Cup</td>\n",
       "      <td>3</td>\n",
       "    </tr>\n",
       "    <tr>\n",
       "      <th>4467</th>\n",
       "      <td>4467</td>\n",
       "      <td>2019-07-03</td>\n",
       "      <td>Netherlands</td>\n",
       "      <td>Sweden</td>\n",
       "      <td>1</td>\n",
       "      <td>0</td>\n",
       "      <td>FIFA World Cup</td>\n",
       "      <td>1</td>\n",
       "    </tr>\n",
       "    <tr>\n",
       "      <th>4468</th>\n",
       "      <td>4468</td>\n",
       "      <td>2019-07-06</td>\n",
       "      <td>England</td>\n",
       "      <td>Sweden</td>\n",
       "      <td>1</td>\n",
       "      <td>2</td>\n",
       "      <td>FIFA World Cup</td>\n",
       "      <td>3</td>\n",
       "    </tr>\n",
       "    <tr>\n",
       "      <th>4469</th>\n",
       "      <td>4469</td>\n",
       "      <td>2019-07-07</td>\n",
       "      <td>United States</td>\n",
       "      <td>Netherlands</td>\n",
       "      <td>2</td>\n",
       "      <td>0</td>\n",
       "      <td>FIFA World Cup</td>\n",
       "      <td>2</td>\n",
       "    </tr>\n",
       "  </tbody>\n",
       "</table>\n",
       "<p>200 rows × 8 columns</p>\n",
       "</div>"
      ],
      "text/plain": [
       "      Unnamed: 0        date      home_team      away_team  home_score  \\\n",
       "1600        1600  2003-09-20        Nigeria    North Korea           0   \n",
       "1601        1601  2003-09-20         Norway         France           2   \n",
       "1602        1602  2003-09-20        Germany         Canada           4   \n",
       "1603        1603  2003-09-20          Japan      Argentina           6   \n",
       "1604        1604  2003-09-21  United States         Sweden           3   \n",
       "...          ...         ...            ...            ...         ...   \n",
       "4465        4465  2019-06-29        Germany         Sweden           1   \n",
       "4466        4466  2019-07-02        England  United States           1   \n",
       "4467        4467  2019-07-03    Netherlands         Sweden           1   \n",
       "4468        4468  2019-07-06        England         Sweden           1   \n",
       "4469        4469  2019-07-07  United States    Netherlands           2   \n",
       "\n",
       "      away_score      tournament  total_score  \n",
       "1600           3  FIFA World Cup            3  \n",
       "1601           0  FIFA World Cup            2  \n",
       "1602           1  FIFA World Cup            5  \n",
       "1603           0  FIFA World Cup            6  \n",
       "1604           1  FIFA World Cup            4  \n",
       "...          ...             ...          ...  \n",
       "4465           2  FIFA World Cup            3  \n",
       "4466           2  FIFA World Cup            3  \n",
       "4467           0  FIFA World Cup            1  \n",
       "4468           2  FIFA World Cup            3  \n",
       "4469           0  FIFA World Cup            2  \n",
       "\n",
       "[200 rows x 8 columns]"
      ]
     },
     "metadata": {},
     "output_type": "display_data"
    }
   ],
   "source": [
    "# Start your code here!\n",
    "import pandas as pd\n",
    "\n",
    "men = pd.read_csv('men_results.csv')\n",
    "women = pd.read_csv('women_results.csv')\n",
    "\n",
    "men['total_score'] = men['home_score'] + men['away_score']\n",
    "women['total_score'] = women['home_score'] + women['away_score']\n",
    "\n",
    "men_filtered = men[men['tournament'] == 'FIFA World Cup']\n",
    "men_filtered = men_filtered[men_filtered['date'] >= '2002-01-01']\n",
    "\n",
    "women_filtered = women[women['tournament'] == 'FIFA World Cup']\n",
    "women_filtered = women_filtered[women_filtered['date'] >= '2002-01-01']\n",
    "\n",
    "display(women_filtered)\n"
   ]
  },
  {
   "cell_type": "markdown",
   "id": "7daffe54",
   "metadata": {},
   "source": [
    "Guide to solve (According to me wehehehe):\n",
    "- Filter data by date (since `2002-01-01`)\n",
    "- Use Z-score (?) since you are using only one feature to compare\n",
    "- Perform hypothesis testing\n",
    "- Put results and interpret in a dataframe according to instructions"
   ]
  },
  {
   "cell_type": "markdown",
   "id": "214ea48e",
   "metadata": {},
   "source": [
    "<h2>T-statistics</h2>"
   ]
  },
  {
   "cell_type": "markdown",
   "id": "19289d31",
   "metadata": {},
   "source": [
    "<h3>Sample Statistic</h3>"
   ]
  },
  {
   "cell_type": "code",
   "execution_count": 3,
   "id": "3815a25e",
   "metadata": {},
   "outputs": [],
   "source": [
    "men_mean = men_filtered['total_score'].mean()\n",
    "men_std = men_filtered['total_score'].std()\n",
    "men_count = men_filtered['total_score'].count()\n",
    "\n",
    "women_mean = women_filtered['total_score'].mean()\n",
    "women_std = women_filtered['total_score'].std()\n",
    "women_count = women_filtered['total_score'].count()"
   ]
  },
  {
   "cell_type": "markdown",
   "id": "d36fbd0e",
   "metadata": {},
   "source": [
    "<h3>Calculating Test Statistics</h3>"
   ]
  },
  {
   "cell_type": "code",
   "execution_count": 4,
   "id": "ce0b9f26",
   "metadata": {},
   "outputs": [
    {
     "name": "stdout",
     "output_type": "stream",
     "text": [
      "2.812822759620731\n"
     ]
    }
   ],
   "source": [
    "import numpy as np\n",
    "\n",
    "numerator = women_mean - men_mean\n",
    "denominator = np.sqrt((women_std ** 2 / women_count) + (men_std ** 2 / men_count))\n",
    "t_stat = numerator/denominator\n",
    "\n",
    "print(t_stat)"
   ]
  },
  {
   "cell_type": "markdown",
   "id": "2af518dd",
   "metadata": {},
   "source": [
    "<h3>Degrees of Freedom</h3>"
   ]
  },
  {
   "cell_type": "code",
   "execution_count": 5,
   "id": "c1f23cf2",
   "metadata": {},
   "outputs": [
    {
     "name": "stdout",
     "output_type": "stream",
     "text": [
      "582\n"
     ]
    }
   ],
   "source": [
    "degrees_of_freedom = women_count + men_count - 2\n",
    "\n",
    "print(degrees_of_freedom)"
   ]
  },
  {
   "cell_type": "code",
   "execution_count": 9,
   "id": "2b3989d7",
   "metadata": {},
   "outputs": [
    {
     "data": {
      "image/png": "[encoded data removed]",
      "text/plain": [
       "<Figure size 640x480 with 1 Axes>"
      ]
     },
     "metadata": {},
     "output_type": "display_data"
    }
   ],
   "source": [
    "import seaborn as sns\n",
    "\n",
    "import matplotlib.pyplot as plt\n",
    "\n",
    "# Plotting the distribution for men\n",
    "sns.histplot(men_filtered['total_score'], kde=True, color='blue', label='Men')\n",
    "# Plotting the distribution for women\n",
    "sns.histplot(women_filtered['total_score'], kde=True, color='red', label='Women')\n",
    "\n",
    "plt.legend()\n",
    "plt.title('Distribution of Total Scores in FIFA World Cup Matches')\n",
    "plt.xlabel('Total Score')\n",
    "plt.ylabel('Frequency')\n",
    "plt.show()"
   ]
  },
  {
   "cell_type": "markdown",
   "id": "eac5cab8",
   "metadata": {},
   "source": [
    "As we can see above, the graph of both men and women total scores are skewed, this means they are not normally distributed. So we will use a non-parametric test."
   ]
  },
  {
   "cell_type": "markdown",
   "id": "0ab422c4",
   "metadata": {},
   "source": [
    "Reminder: \n",
    "- The significance level is <b>10% or 0.1</b>\n",
    "- Since alternative hypothesis looks for 'more', we use right-tailed test"
   ]
  },
  {
   "cell_type": "code",
   "execution_count": 7,
   "id": "c821d4a1",
   "metadata": {},
   "outputs": [
    {
     "name": "stdout",
     "output_type": "stream",
     "text": [
      "0.005106609825443641\n"
     ]
    }
   ],
   "source": [
    "import scipy.stats as stats\n",
    "import pingouin\n",
    "\n",
    "ping = pingouin.mwu(x = women_filtered['total_score'],\n",
    "            y = men_filtered['total_score'],\n",
    "            alternative = 'greater')\n",
    "\n",
    "p_value = ping['p-val'].values[0]\n",
    "print(p_value)"
   ]
  },
  {
   "cell_type": "markdown",
   "id": "76cb32e0",
   "metadata": {},
   "source": [
    "<h2>Analysis</h2>"
   ]
  },
  {
   "cell_type": "code",
   "execution_count": 8,
   "id": "aca5a78c",
   "metadata": {},
   "outputs": [
    {
     "name": "stdout",
     "output_type": "stream",
     "text": [
      "{'p_val': np.float64(0.005106609825443641), 'result': 'reject'}\n"
     ]
    }
   ],
   "source": [
    "result_dict = {\"p_val\": p_value, \"result\": 'reject'}\n",
    "print(result_dict)"
   ]
  },
  {
   "cell_type": "markdown",
   "id": "106c0009",
   "metadata": {},
   "source": [
    "Since p-value is less then the significant value, we reject the null hypothesis."
   ]
  }
 ],
 "metadata": {
  "colab": {
   "name": "Welcome to DataCamp Workspaces.ipynb",
   "provenance": []
  },
  "kernelspec": {
   "display_name": "Python 3",
   "language": "python",
   "name": "python3"
  },
  "language_info": {
   "codemirror_mode": {
    "name": "ipython",
    "version": 3
   },
   "file_extension": ".py",
   "mimetype": "text/x-python",
   "name": "python",
   "nbconvert_exporter": "python",
   "pygments_lexer": "ipython3",
   "version": "3.13.1"
  }
 },
 "nbformat": 4,
 "nbformat_minor": 5
}
